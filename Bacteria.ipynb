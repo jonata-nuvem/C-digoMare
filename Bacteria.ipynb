{
  "nbformat": 4,
  "nbformat_minor": 0,
  "metadata": {
    "colab": {
      "provenance": [],
      "mount_file_id": "1eKNFocaBacycEy7urBpexrjwsuW2jST5",
      "authorship_tag": "ABX9TyNpLRjkdnqcEqnMF+HETSFe",
      "include_colab_link": true
    },
    "kernelspec": {
      "name": "python3",
      "display_name": "Python 3"
    },
    "language_info": {
      "name": "python"
    }
  },
  "cells": [
    {
      "cell_type": "markdown",
      "metadata": {
        "id": "view-in-github",
        "colab_type": "text"
      },
      "source": [
        "<a href=\"https://colab.research.google.com/github/jonata-nuvem/codigoMare/blob/main/Bacteria.ipynb\" target=\"_parent\"><img src=\"https://colab.research.google.com/assets/colab-badge.svg\" alt=\"Open In Colab\"/></a>"
      ]
    },
    {
      "cell_type": "markdown",
      "source": [
        "# Relatório Curso Maré Bioinformática"
      ],
      "metadata": {
        "id": "6VRFMgdH23mA"
      }
    },
    {
      "cell_type": "markdown",
      "source": [
        "# Montagem do driver"
      ],
      "metadata": {
        "id": "tz4E4sgO6idC"
      }
    },
    {
      "cell_type": "code",
      "source": [
        "from google.colab import drive\n",
        "drive.mount('/content/drive')"
      ],
      "metadata": {
        "colab": {
          "base_uri": "https://localhost:8080/"
        },
        "id": "Fe9iJ3EnTJ16",
        "outputId": "877f9c0d-0805-48d5-eaaa-28d2236152ee"
      },
      "execution_count": null,
      "outputs": [
        {
          "output_type": "stream",
          "name": "stdout",
          "text": [
            "Mounted at /content/drive\n"
          ]
        }
      ]
    },
    {
      "cell_type": "markdown",
      "source": [
        "Caminho para salvar dados do projeto"
      ],
      "metadata": {
        "id": "tJi6ujla2_LQ"
      }
    },
    {
      "cell_type": "code",
      "source": [
        "path = '/content/drive/MyDrive/Bacteria'"
      ],
      "metadata": {
        "id": "-KzP1xb3TUDu"
      },
      "execution_count": null,
      "outputs": []
    },
    {
      "cell_type": "markdown",
      "source": [
        "# Instalando Conda - Conda é um gerenciador de pacotes"
      ],
      "metadata": {
        "id": "7ALWmp2S3ECo"
      }
    },
    {
      "cell_type": "code",
      "source": [
        "!pip install -q condacolab"
      ],
      "metadata": {
        "id": "zz-W9zGRT3uy"
      },
      "execution_count": null,
      "outputs": []
    },
    {
      "cell_type": "markdown",
      "source": [
        "Instalando ferramenta [sra-tools] e baixando os dados brutos"
      ],
      "metadata": {
        "id": "DcFl_3GG3SRn"
      }
    },
    {
      "cell_type": "code",
      "source": [
        "import condacolab\n",
        "condacolab.install()"
      ],
      "metadata": {
        "colab": {
          "base_uri": "https://localhost:8080/"
        },
        "id": "KlSfla1hUCIF",
        "outputId": "c933ad76-1529-4350-e08b-7365e16e27b8"
      },
      "execution_count": null,
      "outputs": [
        {
          "output_type": "stream",
          "name": "stdout",
          "text": [
            "⏬ Downloading https://github.com/conda-forge/miniforge/releases/download/23.11.0-0/Mambaforge-23.11.0-0-Linux-x86_64.sh...\n",
            "📦 Installing...\n",
            "📌 Adjusting configuration...\n",
            "🩹 Patching environment...\n",
            "⏲ Done in 0:00:16\n",
            "🔁 Restarting kernel...\n"
          ]
        }
      ]
    },
    {
      "cell_type": "markdown",
      "source": [],
      "metadata": {
        "id": "jXDEK6SV0A2h"
      }
    },
    {
      "cell_type": "code",
      "source": [
        "!conda install -c bioconda sra-tools --quiet"
      ],
      "metadata": {
        "id": "_jRdqa1lUt1_",
        "colab": {
          "base_uri": "https://localhost:8080/"
        },
        "outputId": "d9a769bd-40fc-4d8d-f48d-6137eaa7f79d"
      },
      "execution_count": null,
      "outputs": [
        {
          "output_type": "stream",
          "name": "stdout",
          "text": [
            "Channels:\n",
            " - bioconda\n",
            " - conda-forge\n",
            "Platform: linux-64\n",
            "Collecting package metadata (repodata.json): ...working... done\n",
            "Solving environment: ...working... done\n",
            "\n",
            "## Package Plan ##\n",
            "\n",
            "  environment location: /usr/local\n",
            "\n",
            "  added / updated specs:\n",
            "    - sra-tools\n",
            "\n",
            "\n",
            "The following packages will be downloaded:\n",
            "\n",
            "    package                    |            build\n",
            "    ---------------------------|-----------------\n",
            "    ca-certificates-2024.2.2   |       hbcca054_0         152 KB  conda-forge\n",
            "    certifi-2024.2.2           |     pyhd8ed1ab_0         157 KB  conda-forge\n",
            "    curl-8.5.0                 |       hca28451_0          93 KB  conda-forge\n",
            "    ncbi-vdb-3.1.1             |       h4ac6f70_0        10.7 MB  bioconda\n",
            "    openssl-3.3.0              |       h4ab18f5_3         2.8 MB  conda-forge\n",
            "    ossuuid-1.6.2              |    hf484d3e_1000          56 KB  conda-forge\n",
            "    perl-5.22.0.1              |                0        15.1 MB  conda-forge\n",
            "    perl-threaded-5.32.1       |       hdfd78af_1           5 KB  bioconda\n",
            "    perl-uri-1.71              |       pl5.22.0_1          54 KB  bioconda\n",
            "    perl-xml-libxml-2.0124     |                0         214 KB  bioconda\n",
            "    perl-xml-namespacesupport-1.11|                0           6 KB  bioconda\n",
            "    perl-xml-sax-0.99          |                0          24 KB  bioconda\n",
            "    perl-xml-sax-base-1.08     |                0          13 KB  bioconda\n",
            "    sra-tools-3.1.0            |       h4304569_1        57.9 MB  bioconda\n",
            "    ------------------------------------------------------------\n",
            "                                           Total:        87.2 MB\n",
            "\n",
            "The following NEW packages will be INSTALLED:\n",
            "\n",
            "  curl               conda-forge/linux-64::curl-8.5.0-hca28451_0 \n",
            "  ncbi-vdb           bioconda/linux-64::ncbi-vdb-3.1.1-h4ac6f70_0 \n",
            "  ossuuid            conda-forge/linux-64::ossuuid-1.6.2-hf484d3e_1000 \n",
            "  perl               conda-forge/linux-64::perl-5.22.0.1-0 \n",
            "  perl-threaded      bioconda/noarch::perl-threaded-5.32.1-hdfd78af_1 \n",
            "  perl-uri           bioconda/linux-64::perl-uri-1.71-pl5.22.0_1 \n",
            "  perl-xml-libxml    bioconda/linux-64::perl-xml-libxml-2.0124-0 \n",
            "  perl-xml-namespac~ bioconda/linux-64::perl-xml-namespacesupport-1.11-0 \n",
            "  perl-xml-sax       bioconda/linux-64::perl-xml-sax-0.99-0 \n",
            "  perl-xml-sax-base  bioconda/linux-64::perl-xml-sax-base-1.08-0 \n",
            "  sra-tools          bioconda/linux-64::sra-tools-3.1.0-h4304569_1 \n",
            "\n",
            "The following packages will be UPDATED:\n",
            "\n",
            "  ca-certificates                     2023.11.17-hbcca054_0 --> 2024.2.2-hbcca054_0 \n",
            "  certifi                           2023.11.17-pyhd8ed1ab_0 --> 2024.2.2-pyhd8ed1ab_0 \n",
            "  openssl                                  3.2.0-hd590300_1 --> 3.3.0-h4ab18f5_3 \n",
            "\n",
            "\n",
            "Preparing transaction: ...working... done\n",
            "Verifying transaction: ...working... done\n",
            "Executing transaction: ...working... done\n"
          ]
        }
      ]
    },
    {
      "cell_type": "markdown",
      "source": [
        "# Download dos dados brutos via sra"
      ],
      "metadata": {
        "id": "Ki94t9ej6XP6"
      }
    },
    {
      "cell_type": "markdown",
      "source": [
        "Baixar dados brutos de Cetobacterium sp. ZWU0022"
      ],
      "metadata": {
        "id": "9Y2o2-mj0GM4"
      }
    },
    {
      "cell_type": "code",
      "source": [
        "!prefetch -v SRR1573261"
      ],
      "metadata": {
        "id": "6lbcAhQ7VKC5",
        "colab": {
          "base_uri": "https://localhost:8080/"
        },
        "outputId": "be37f881-2b7c-477b-eae2-341e7c364829"
      },
      "execution_count": null,
      "outputs": [
        {
          "output_type": "stream",
          "name": "stdout",
          "text": [
            "\n",
            "2024-05-24T13:37:16 prefetch.3.1.0: Current preference is set to retrieve SRA Normalized Format files with full base quality scores.\n",
            "2024-05-24T13:37:16 prefetch.3.1.0: 1) Downloading 'SRR1573261'...\n",
            "2024-05-24T13:37:16 prefetch.3.1.0: SRA Normalized Format file is being retrieved, if this is different from your preference, it may be due to current file availability.\n",
            "2024-05-24T13:37:16 prefetch.3.1.0:  Downloading via HTTPS...\n",
            "2024-05-24T13:37:27 prefetch.3.1.0:  HTTPS download succeed\n",
            "2024-05-24T13:37:28 prefetch.3.1.0:  'SRR1573261' is valid\n",
            "2024-05-24T13:37:28 prefetch.3.1.0: 1) 'SRR1573261' was downloaded successfully\n",
            "2024-05-24T13:37:28 prefetch.3.1.0: 'SRR1573261' has 0 unresolved dependencies\n"
          ]
        }
      ]
    },
    {
      "cell_type": "markdown",
      "source": [
        "Criação do diretorio para dados brutos"
      ],
      "metadata": {
        "id": "MUeSCrMX3rIZ"
      }
    },
    {
      "cell_type": "code",
      "source": [
        "!mkdir $path/rawdata"
      ],
      "metadata": {
        "id": "25rEWv1BXded"
      },
      "execution_count": null,
      "outputs": []
    },
    {
      "cell_type": "markdown",
      "source": [
        "Split dos dados brutos conversão em fastq \"separar ou dividir os dados brutos de sequenciamento em unidades menores ou em diferentes arquivos\""
      ],
      "metadata": {
        "id": "eRrHCVap4N_I"
      }
    },
    {
      "cell_type": "code",
      "source": [
        "\n",
        "!fastq-dump --outdir $path/rawdata --split-files /content/SRR1573261/SRR1573261.sra"
      ],
      "metadata": {
        "colab": {
          "base_uri": "https://localhost:8080/"
        },
        "id": "-RDQGUfBXuy9",
        "outputId": "a573c457-80f3-4877-c0b1-175a99fec402"
      },
      "execution_count": null,
      "outputs": [
        {
          "output_type": "stream",
          "name": "stdout",
          "text": [
            "Read 922052 spots for /content/SRR1573261/SRR1573261.sra\n",
            "Written 922052 spots for /content/SRR1573261/SRR1573261.sra\n"
          ]
        }
      ]
    },
    {
      "cell_type": "markdown",
      "source": [
        "Comprimindo os arquivos"
      ],
      "metadata": {
        "id": "z0MiYIw64aM7"
      }
    },
    {
      "cell_type": "code",
      "source": [
        "!gzip $path/rawdata/*.fastq"
      ],
      "metadata": {
        "id": "SrJvWYglYAo-"
      },
      "execution_count": null,
      "outputs": []
    },
    {
      "cell_type": "markdown",
      "source": [
        "Conferido tamanho dos arquivos"
      ],
      "metadata": {
        "id": "HLhs47OR5U64"
      }
    },
    {
      "cell_type": "code",
      "source": [
        "!ls -lh  $path/rawdata"
      ],
      "metadata": {
        "colab": {
          "base_uri": "https://localhost:8080/"
        },
        "id": "FtHth5ro5aGX",
        "outputId": "93a21ff0-a660-4bce-cdfd-4d30dab40841"
      },
      "execution_count": null,
      "outputs": [
        {
          "output_type": "stream",
          "name": "stdout",
          "text": [
            "total 168M\n",
            "-rw------- 1 root root 80M May 24 13:41 SRR1573261_1.fastq.gz\n",
            "-rw------- 1 root root 89M May 24 13:41 SRR1573261_2.fastq.gz\n"
          ]
        }
      ]
    },
    {
      "cell_type": "markdown",
      "source": [
        "# Análise primária, qualidade dos dados"
      ],
      "metadata": {
        "id": "VMOClLOp6PmY"
      }
    },
    {
      "cell_type": "code",
      "source": [
        "!conda install -c bioconda fastqc"
      ],
      "metadata": {
        "id": "YmKd1HdJYbzN"
      },
      "execution_count": null,
      "outputs": []
    },
    {
      "cell_type": "markdown",
      "source": [
        "Criando o diretório para a saída do fastqc"
      ],
      "metadata": {
        "id": "j4fnTzuZ612p"
      }
    },
    {
      "cell_type": "code",
      "source": [
        "!mkdir $path/fastqc"
      ],
      "metadata": {
        "id": "y1e6DBoeYsns"
      },
      "execution_count": null,
      "outputs": []
    },
    {
      "cell_type": "markdown",
      "source": [
        "Exibir o help do software e a lista de opções"
      ],
      "metadata": {
        "id": "8r201YJC9tN4"
      }
    },
    {
      "cell_type": "code",
      "source": [
        "!fastqc -h"
      ],
      "metadata": {
        "id": "pOmeqp6BY2Ro"
      },
      "execution_count": null,
      "outputs": []
    },
    {
      "cell_type": "markdown",
      "source": [
        "Rodando o fastqc, gerando um report de métricas"
      ],
      "metadata": {
        "id": "U1oXhFor-BxB"
      }
    },
    {
      "cell_type": "code",
      "source": [
        "!fastqc $path/rawdata/*.gz --nogroup -o $path/fastqc"
      ],
      "metadata": {
        "id": "HgViHEIpZBye"
      },
      "execution_count": null,
      "outputs": []
    },
    {
      "cell_type": "markdown",
      "source": [
        "# Clipper & trimming (Remoção de sequencias e bases de baixa qualidade)"
      ],
      "metadata": {
        "id": "VwwM5KdD-cZY"
      }
    },
    {
      "cell_type": "markdown",
      "source": [
        "Instalando cutadapt"
      ],
      "metadata": {
        "id": "40G_LSlQ-yUT"
      }
    },
    {
      "cell_type": "code",
      "source": [
        "!conda install -c bioconda cutadapt --quiet"
      ],
      "metadata": {
        "id": "ZXcRbmWsdqff"
      },
      "execution_count": null,
      "outputs": []
    },
    {
      "cell_type": "markdown",
      "source": [
        "criar pasta cutadapt"
      ],
      "metadata": {
        "id": "RT0-zMh7--YT"
      }
    },
    {
      "cell_type": "code",
      "source": [
        "!mkdir $path/cutadapt"
      ],
      "metadata": {
        "id": "WbZczbBveZMk"
      },
      "execution_count": null,
      "outputs": []
    },
    {
      "cell_type": "markdown",
      "source": [
        "Usando CUTADAPT EM comando em uma linha"
      ],
      "metadata": {
        "id": "9pQkAsWH_RxQ"
      }
    },
    {
      "cell_type": "code",
      "source": [
        "!cutadapt -q 30 -Q 30 -o $path/cutadapt/SRR1573261_1_2.fastq.gz -p $path/cutadapt/SRR1573261_2_2.fastq.gz $path/rawdata/SRR1573261_1.fastq.gz $path/rawdata/SRR1573261_2.fastq.gz"
      ],
      "metadata": {
        "id": "nCKNFSY5eoby",
        "colab": {
          "base_uri": "https://localhost:8080/"
        },
        "outputId": "e0b437c2-aaf0-464e-b907-dcb62aff5708"
      },
      "execution_count": null,
      "outputs": [
        {
          "output_type": "stream",
          "name": "stdout",
          "text": [
            "This is cutadapt 4.8 with Python 3.10.13\n",
            "Command line parameters: -q 30 -Q 30 -o /content/drive/MyDrive/Bacteria/cutadapt/SRR1573261_1_2.fastq.gz -p /content/drive/MyDrive/Bacteria/cutadapt/SRR1573261_2_2.fastq.gz /content/drive/MyDrive/Bacteria/rawdata/SRR1573261_1.fastq.gz /content/drive/MyDrive/Bacteria/rawdata/SRR1573261_2.fastq.gz\n",
            "Processing paired-end reads on 1 core ...\n",
            "Done           00:00:27       922,052 reads @  29.8 µs/read;   2.02 M reads/minute\n",
            "Finished in 27.458 s (29.779 µs/read; 2.01 M reads/minute).\n",
            "\n",
            "=== Summary ===\n",
            "\n",
            "Total read pairs processed:            922,052\n",
            "Pairs written (passing filters):       922,052 (100.0%)\n",
            "\n",
            "Total basepairs processed:   212,071,960 bp\n",
            "  Read 1:   106,035,980 bp\n",
            "  Read 2:   106,035,980 bp\n",
            "Quality-trimmed:               9,047,837 bp (4.3%)\n",
            "  Read 1:     3,622,750 bp\n",
            "  Read 2:     5,425,087 bp\n",
            "Total written (filtered):    203,024,123 bp (95.7%)\n",
            "  Read 1:   102,413,230 bp\n",
            "  Read 2:   100,610,893 bp\n"
          ]
        }
      ]
    },
    {
      "cell_type": "markdown",
      "source": [
        "# Verificando a qualidade dos dados (Clipping)"
      ],
      "metadata": {
        "id": "QYWDYvwqDydn"
      }
    },
    {
      "cell_type": "markdown",
      "source": [
        "criar pasta para o fastqc, gerando um report de métricas"
      ],
      "metadata": {
        "id": "OCRNPsH7Dfpg"
      }
    },
    {
      "cell_type": "code",
      "source": [
        "!mkdir $path/cutadapt/fastqc"
      ],
      "metadata": {
        "id": "qtM5lSr_fDmB"
      },
      "execution_count": null,
      "outputs": []
    },
    {
      "cell_type": "code",
      "source": [
        "!fastqc $path/cutadapt/*.gz --nogroup -o $path/cutadapt/fastqc"
      ],
      "metadata": {
        "id": "lw6eNOcXfZMd",
        "colab": {
          "base_uri": "https://localhost:8080/"
        },
        "outputId": "48dfa149-a9d2-4b1f-e69c-109a4e325804"
      },
      "execution_count": null,
      "outputs": [
        {
          "output_type": "stream",
          "name": "stdout",
          "text": [
            "application/gzip\n",
            "Started analysis of SRR1573261_1_2.fastq.gz\n",
            "application/gzip\n",
            "Approx 5% complete for SRR1573261_1_2.fastq.gz\n",
            "Approx 10% complete for SRR1573261_1_2.fastq.gz\n",
            "Approx 15% complete for SRR1573261_1_2.fastq.gz\n",
            "Approx 20% complete for SRR1573261_1_2.fastq.gz\n",
            "Approx 25% complete for SRR1573261_1_2.fastq.gz\n",
            "Approx 30% complete for SRR1573261_1_2.fastq.gz\n",
            "Approx 35% complete for SRR1573261_1_2.fastq.gz\n",
            "Approx 40% complete for SRR1573261_1_2.fastq.gz\n",
            "Approx 45% complete for SRR1573261_1_2.fastq.gz\n",
            "Approx 50% complete for SRR1573261_1_2.fastq.gz\n",
            "Approx 55% complete for SRR1573261_1_2.fastq.gz\n",
            "Approx 60% complete for SRR1573261_1_2.fastq.gz\n",
            "Approx 65% complete for SRR1573261_1_2.fastq.gz\n",
            "Approx 70% complete for SRR1573261_1_2.fastq.gz\n",
            "Approx 75% complete for SRR1573261_1_2.fastq.gz\n",
            "Approx 80% complete for SRR1573261_1_2.fastq.gz\n",
            "Approx 85% complete for SRR1573261_1_2.fastq.gz\n",
            "Approx 90% complete for SRR1573261_1_2.fastq.gz\n",
            "Approx 95% complete for SRR1573261_1_2.fastq.gz\n",
            "Analysis complete for SRR1573261_1_2.fastq.gz\n",
            "Started analysis of SRR1573261_2_2.fastq.gz\n",
            "Approx 5% complete for SRR1573261_2_2.fastq.gz\n",
            "Approx 10% complete for SRR1573261_2_2.fastq.gz\n",
            "Approx 15% complete for SRR1573261_2_2.fastq.gz\n",
            "Approx 20% complete for SRR1573261_2_2.fastq.gz\n",
            "Approx 25% complete for SRR1573261_2_2.fastq.gz\n",
            "Approx 30% complete for SRR1573261_2_2.fastq.gz\n",
            "Approx 35% complete for SRR1573261_2_2.fastq.gz\n",
            "Approx 40% complete for SRR1573261_2_2.fastq.gz\n",
            "Approx 45% complete for SRR1573261_2_2.fastq.gz\n",
            "Approx 50% complete for SRR1573261_2_2.fastq.gz\n",
            "Approx 55% complete for SRR1573261_2_2.fastq.gz\n",
            "Approx 60% complete for SRR1573261_2_2.fastq.gz\n",
            "Approx 65% complete for SRR1573261_2_2.fastq.gz\n",
            "Approx 70% complete for SRR1573261_2_2.fastq.gz\n",
            "Approx 75% complete for SRR1573261_2_2.fastq.gz\n",
            "Approx 80% complete for SRR1573261_2_2.fastq.gz\n",
            "Approx 85% complete for SRR1573261_2_2.fastq.gz\n",
            "Approx 90% complete for SRR1573261_2_2.fastq.gz\n",
            "Approx 95% complete for SRR1573261_2_2.fastq.gz\n",
            "Analysis complete for SRR1573261_2_2.fastq.gz\n"
          ]
        }
      ]
    },
    {
      "cell_type": "code",
      "source": [
        "!gunzip -c /content/drive/MyDrive/Bacteria/cutadapt/SRR1573261_1_2.fastq.gz | echo \"read1\" \"$((`wc -l` / 4))\"\n",
        "!gunzip -c /content/drive/MyDrive/Bacteria/cutadapt/SRR1573261_2_2.fastq.gz | echo \"read1\" \"$((`wc -l` / 4))\""
      ],
      "metadata": {
        "colab": {
          "base_uri": "https://localhost:8080/"
        },
        "id": "l_fiCUlkfqBy",
        "outputId": "f1780462-2404-46fc-998f-d6299a2c0ea6"
      },
      "execution_count": null,
      "outputs": [
        {
          "output_type": "stream",
          "name": "stdout",
          "text": [
            "read1 922052\n",
            "read1 922052\n"
          ]
        }
      ]
    },
    {
      "cell_type": "markdown",
      "source": [
        "# Instalando o spades (programa de montagem de genoma) e o bwa (ferramenta de alinhamento de sequencias de DNA)"
      ],
      "metadata": {
        "id": "W_T6EKjPE7A3"
      }
    },
    {
      "cell_type": "code",
      "source": [
        "!conda install -c bioconda spades --quiet"
      ],
      "metadata": {
        "id": "Ho8E5CO4gpbw"
      },
      "execution_count": null,
      "outputs": []
    },
    {
      "cell_type": "markdown",
      "source": [
        "# Montando um genoma de novo usando o spades"
      ],
      "metadata": {
        "id": "VzL5-ZY-FJTQ"
      }
    },
    {
      "cell_type": "markdown",
      "source": [
        "criando diretorio para Spades"
      ],
      "metadata": {
        "id": "UIfduLnuFriW"
      }
    },
    {
      "cell_type": "code",
      "source": [
        "!mkdir $path/spades"
      ],
      "metadata": {
        "id": "CD0d4fHkg9Ne"
      },
      "execution_count": null,
      "outputs": []
    },
    {
      "cell_type": "markdown",
      "source": [
        "Montando um genoma de novo usando o spades"
      ],
      "metadata": {
        "id": "_IQd_tcFF5uf"
      }
    },
    {
      "cell_type": "code",
      "source": [
        "!spades.py -1 /content/drive/MyDrive/Bacteria/cutadapt/SRR1573261_1_2.fastq.gz -2 /content/drive/MyDrive/Bacteria/cutadapt/SRR1573261_2_2.fastq.gz -o $path/spades"
      ],
      "metadata": {
        "id": "RoUIFQofhUsv"
      },
      "execution_count": null,
      "outputs": []
    },
    {
      "cell_type": "markdown",
      "source": [
        "Verifica as contigs"
      ],
      "metadata": {
        "id": "MNj7Jql69f24"
      }
    },
    {
      "cell_type": "code",
      "source": [
        "!head -n 10 /content/drive/MyDrive/Bacteria/spades/contigs.fasta"
      ],
      "metadata": {
        "colab": {
          "base_uri": "https://localhost:8080/"
        },
        "id": "sEHjhdDjlMe5",
        "outputId": "ed28b551-2f5e-4a16-b176-773501841615"
      },
      "execution_count": null,
      "outputs": [
        {
          "output_type": "stream",
          "name": "stdout",
          "text": [
            ">NODE_1_length_151163_cov_28.595945\n",
            "AAATTATATCATTGCATTCTGCCAGAAAACCTACAATTTATTCTACCATTAACATATGAT\n",
            "GTTTATGAAATCGAAAAATCTATAGAGGAATACTACTCTTCTATAAAAAAGTATTCTGAA\n",
            "TTTTATTTAGGAGATACTTACTTAAAAGGAGTTTTTGATTTTTCTGAAATTTTATATATG\n",
            "GATTACTGTAGAGTAAGTCGGAAAGTTAGATTTAATTTGATTAATAATGAGAGTTTTTTT\n",
            "GTAAAACGAACATTCTCTGATTTAGATTTTTTAACAGTTACGTTTCCAAATTTTTATAAA\n",
            "TTAGAAAGAGGGCTTATTATAAACACTGATTTAATCAAAATTTTAGATTATAAAGAGGAG\n",
            "CGTATAATTTTTAAAGATAAATCAATCTTATATATCAGTAAAATTAAAATTAAAGAGCTT\n",
            "GAAAGTATTCATAACTTTGAAAAAAATAGAGTATTCTTTTAAAGAAAAAGAACCTAAATA\n",
            "ATTAAAATTTAGGTTCTTTTTTTATTAGATATTCTTTATTATATTCTTCAAAAATTCTTT\n"
          ]
        }
      ]
    },
    {
      "cell_type": "markdown",
      "source": [
        "# Verificar o Numero de contigs"
      ],
      "metadata": {
        "id": "7fUWTQeT9xQA"
      }
    },
    {
      "cell_type": "code",
      "source": [
        "!grep -c \">\" /content/drive/MyDrive/Bacteria/spades/contigs.fasta"
      ],
      "metadata": {
        "colab": {
          "base_uri": "https://localhost:8080/"
        },
        "id": "xLvcMOHtmsN9",
        "outputId": "3fefb8e2-e1f3-417e-e57f-4c9cad44cdd6"
      },
      "execution_count": null,
      "outputs": [
        {
          "output_type": "stream",
          "name": "stdout",
          "text": [
            "209\n"
          ]
        }
      ]
    },
    {
      "cell_type": "markdown",
      "source": [
        "# Avaliando a qualidade da montagem"
      ],
      "metadata": {
        "id": "sLBwFdXG99Ng"
      }
    },
    {
      "cell_type": "markdown",
      "source": [
        "Instalando o quast"
      ],
      "metadata": {
        "id": "3lZeLFo5pZhN"
      }
    },
    {
      "cell_type": "code",
      "source": [
        "!conda install -c bioconda quast --quiet"
      ],
      "metadata": {
        "id": "7ncG_3DUvh7s"
      },
      "execution_count": null,
      "outputs": []
    },
    {
      "cell_type": "markdown",
      "source": [],
      "metadata": {
        "id": "Kkmu6a2enwt8"
      }
    },
    {
      "cell_type": "markdown",
      "source": [
        "Criar diretório de saída"
      ],
      "metadata": {
        "id": "d0UsbjgJ-Gvx"
      }
    },
    {
      "cell_type": "code",
      "source": [
        "!mkdir $path/quast"
      ],
      "metadata": {
        "id": "_6weSI9d0RVe"
      },
      "execution_count": null,
      "outputs": []
    },
    {
      "cell_type": "markdown",
      "source": [],
      "metadata": {
        "id": "Ys-jdrWSpkVc"
      }
    },
    {
      "cell_type": "markdown",
      "source": [
        "Analisando os dados"
      ],
      "metadata": {
        "id": "lPHtf2nN-Odn"
      }
    },
    {
      "cell_type": "code",
      "source": [
        "!quast -o $path/quast $path/spades/contigs.fasta $path/spades/scaffolds.fasta"
      ],
      "metadata": {
        "id": "lKZSxOWB0_Vg"
      },
      "execution_count": null,
      "outputs": []
    },
    {
      "cell_type": "markdown",
      "source": [
        "# Montagem por referência"
      ],
      "metadata": {
        "id": "o2xnzhgc3Ul3"
      }
    },
    {
      "cell_type": "markdown",
      "source": [
        "# Configurando o genoma de refeência, dowload, index, dict, etc."
      ],
      "metadata": {
        "id": "qJhRhuCU35g_"
      }
    },
    {
      "cell_type": "markdown",
      "source": [
        "Para realizar a montagem do genoma por referência, devemos inicialmente obter e indexar a referência, para isso iremos até o NCBI e buscaremos em genomes o nome do organismo. Cetobacterium somerae"
      ],
      "metadata": {
        "id": "bGinLN3Z386u"
      }
    },
    {
      "cell_type": "markdown",
      "source": [
        "Configurando o ambiente"
      ],
      "metadata": {
        "id": "jbNfGzgb4GJR"
      }
    },
    {
      "cell_type": "code",
      "source": [
        "!conda install -c bioconda picard samtools gatk4 bwa freebayes --quiet"
      ],
      "metadata": {
        "id": "uyY_xgtu4KJv"
      },
      "execution_count": null,
      "outputs": []
    },
    {
      "cell_type": "code",
      "source": [
        "!mkdir $path/reference"
      ],
      "metadata": {
        "id": "i-P9sh_y89j5"
      },
      "execution_count": null,
      "outputs": []
    },
    {
      "cell_type": "markdown",
      "source": [
        "Baixando genoma de referencia"
      ],
      "metadata": {
        "id": "vAt8EE7f9nfQ"
      }
    },
    {
      "cell_type": "code",
      "source": [
        "!wget ftp://ftp.ncbi.nlm.nih.gov/genomes/all/GCA/022/430/525/GCA_022430525.1_ASM2243052v1/GCA_022430525.1_ASM2243052v1_genomic.fna.gz -P $path/reference"
      ],
      "metadata": {
        "colab": {
          "base_uri": "https://localhost:8080/"
        },
        "id": "KaLtTq7I9l_8",
        "outputId": "308f096d-1cc5-43a4-8c9d-6050b3c36620"
      },
      "execution_count": null,
      "outputs": [
        {
          "output_type": "stream",
          "name": "stdout",
          "text": [
            "--2024-05-24 18:56:29--  ftp://ftp.ncbi.nlm.nih.gov/genomes/all/GCA/022/430/525/GCA_022430525.1_ASM2243052v1/GCA_022430525.1_ASM2243052v1_genomic.fna.gz\n",
            "           => ‘/content/drive/MyDrive/Bacteria/reference/GCA_022430525.1_ASM2243052v1_genomic.fna.gz’\n",
            "Resolving ftp.ncbi.nlm.nih.gov (ftp.ncbi.nlm.nih.gov)... 130.14.250.7, 130.14.250.10, 2607:f220:41e:250::12, ...\n",
            "Connecting to ftp.ncbi.nlm.nih.gov (ftp.ncbi.nlm.nih.gov)|130.14.250.7|:21... connected.\n",
            "Logging in as anonymous ... Logged in!\n",
            "==> SYST ... done.    ==> PWD ... done.\n",
            "==> TYPE I ... done.  ==> CWD (1) /genomes/all/GCA/022/430/525/GCA_022430525.1_ASM2243052v1 ... done.\n",
            "==> SIZE GCA_022430525.1_ASM2243052v1_genomic.fna.gz ... 838924\n",
            "==> PASV ... done.    ==> RETR GCA_022430525.1_ASM2243052v1_genomic.fna.gz ... done.\n",
            "Length: 838924 (819K) (unauthoritative)\n",
            "\n",
            "GCA_022430525.1_ASM 100%[===================>] 819.26K  1.47MB/s    in 0.5s    \n",
            "\n",
            "2024-05-24 18:56:31 (1.47 MB/s) - ‘/content/drive/MyDrive/Bacteria/reference/GCA_022430525.1_ASM2243052v1_genomic.fna.gz’ saved [838924]\n",
            "\n"
          ]
        }
      ]
    },
    {
      "cell_type": "code",
      "source": [
        "!gzip -d $path/reference/GCA_022430525.1_ASM2243052v1_genomic.fna.gz"
      ],
      "metadata": {
        "id": "FBH-CdYX_jq-"
      },
      "execution_count": null,
      "outputs": []
    },
    {
      "cell_type": "markdown",
      "source": [
        "Indexando o genoma de referencia"
      ],
      "metadata": {
        "id": "z59n0tM2AYEd"
      }
    },
    {
      "cell_type": "code",
      "source": [
        "!bwa index $path/reference/GCA_022430525.1_ASM2243052v1_genomic.fna"
      ],
      "metadata": {
        "colab": {
          "base_uri": "https://localhost:8080/"
        },
        "id": "HGPeskuuAdDQ",
        "outputId": "07d15d5f-c2e8-4fe2-fb82-0972d5e2dcbf"
      },
      "execution_count": null,
      "outputs": [
        {
          "output_type": "stream",
          "name": "stdout",
          "text": [
            "[bwa_index] Pack FASTA... 0.03 sec\n",
            "[bwa_index] Construct BWT for the packed sequence...\n",
            "[bwa_index] 1.02 seconds elapse.\n",
            "[bwa_index] Update BWT... 0.03 sec\n",
            "[bwa_index] Pack forward-only FASTA... 0.02 sec\n",
            "[bwa_index] Construct SA from BWT and Occ... 0.51 sec\n",
            "[main] Version: 0.7.18-r1243-dirty\n",
            "[main] CMD: bwa index /content/drive/MyDrive/Bacteria/reference/GCA_022430525.1_ASM2243052v1_genomic.fna\n",
            "[main] Real time: 1.816 sec; CPU: 1.620 sec\n"
          ]
        }
      ]
    },
    {
      "cell_type": "code",
      "source": [
        "!samtools faidx $path/reference/GCA_022430525.1_ASM2243052v1_genomic.fna"
      ],
      "metadata": {
        "id": "hrDNgb-DBFJc"
      },
      "execution_count": null,
      "outputs": []
    },
    {
      "cell_type": "code",
      "source": [
        "!picard CreateSequenceDictionary R=$path/reference/GCA_022430525.1_ASM2243052v1_genomic.fna O=$path/reference/GCA_022430525.1_ASM2243052v1_genomic.dict"
      ],
      "metadata": {
        "id": "Q6pIyyRIBGUL"
      },
      "execution_count": null,
      "outputs": []
    },
    {
      "cell_type": "markdown",
      "source": [
        "## **Mapeado os read no genoma de referencia**"
      ],
      "metadata": {
        "id": "h4TXPCGeCgLZ"
      }
    },
    {
      "cell_type": "code",
      "source": [
        "!bwa mem -R \"@RG\\tID:SRR519926\\tSM:SRR519926\\tPL:MARE\\tPU:unit1\\tLB:lib1\" $path/reference/GCA_022430525.1_ASM2243052v1_genomic.fna /content/drive/MyDrive/Bacteria/cutadapt/SRR1573261_1_2.fastq.gz /content/drive/MyDrive/Bacteria/cutadapt/SRR1573261_2_2.fastq.gz > $path/reference/SRR1573261.sam"
      ],
      "metadata": {
        "id": "tksXkEQJCebM"
      },
      "execution_count": null,
      "outputs": []
    },
    {
      "cell_type": "code",
      "source": [
        "!samtools sort $path/reference/SRR1573261.sam > $path/reference/SRR1573261.bam"
      ],
      "metadata": {
        "id": "ehB-MkwlFI1e"
      },
      "execution_count": null,
      "outputs": []
    },
    {
      "cell_type": "code",
      "source": [
        "!samtools index $path/reference/SRR1573261.bam"
      ],
      "metadata": {
        "id": "gKhVyMEKFNQb"
      },
      "execution_count": null,
      "outputs": []
    },
    {
      "cell_type": "code",
      "source": [
        "!samtools view $path/reference/SRR1573261.bam | wc -l"
      ],
      "metadata": {
        "colab": {
          "base_uri": "https://localhost:8080/"
        },
        "id": "N839jZoGFMSF",
        "outputId": "e79cf48f-c6bd-4fd5-b625-c3a7bd8ac04d"
      },
      "execution_count": null,
      "outputs": [
        {
          "output_type": "stream",
          "name": "stdout",
          "text": [
            "1844604\n"
          ]
        }
      ]
    },
    {
      "cell_type": "markdown",
      "source": [
        "# Usar GATK (Genome Analysis Toolkit) HaplotypeCaller [mais detalhado que o Freebayes]"
      ],
      "metadata": {
        "id": "qJH1hLhiSCAb"
      }
    },
    {
      "cell_type": "code",
      "source": [
        "!gatk --java-options \"-Xmx10g\" HaplotypeCaller -R /content/drive/MyDrive/Bacteria/reference/GCA_022430525.1_ASM2243052v1_genomic.fna -I /content/drive/MyDrive/Bacteria/reference/SRR1573261.bam -O /content/drive/MyDrive/Bacteria/reference/SRR1573261.vcf --sample-ploidy 1"
      ],
      "metadata": {
        "id": "HYlwceeYFL6d"
      },
      "execution_count": null,
      "outputs": []
    },
    {
      "cell_type": "code",
      "source": [
        "!mkdir $path/reference2"
      ],
      "metadata": {
        "id": "-BBg-n1FNePi"
      },
      "execution_count": null,
      "outputs": []
    },
    {
      "cell_type": "code",
      "source": [
        "!samtools quickcheck /content/drive/MyDrive/Bacteria/reference/SRR1573261.bam"
      ],
      "metadata": {
        "id": "Sc-RcNL2OQfB"
      },
      "execution_count": null,
      "outputs": []
    },
    {
      "cell_type": "code",
      "source": [
        "!samtools faidx /content/drive/MyDrive/Bacteria/reference/GCA_022430525.1_ASM2243052v1_genomic.fna"
      ],
      "metadata": {
        "id": "IJZ_kwboQQ2o"
      },
      "execution_count": null,
      "outputs": []
    },
    {
      "cell_type": "markdown",
      "source": [
        "Freebayes -Opção de análise de variante, porém, não foi necessário aqui. no entanto, os arquivos gerados estão na pasta /reference2"
      ],
      "metadata": {
        "id": "9OXlcpX9San_"
      }
    },
    {
      "cell_type": "code",
      "source": [
        "#!freebayes -f /content/drive/MyDrive/Bacteria/reference/GCA_022430525.1_ASM2243052v1_genomic.fna /content/drive/MyDrive/Bacteria/reference/SRR1573261.bam > /content/drive/MyDrive/Bacteria/reference2/SRR1573261.freebayes.vcf\n"
      ],
      "metadata": {
        "id": "tR22P_2_A8TS"
      },
      "execution_count": null,
      "outputs": []
    },
    {
      "cell_type": "markdown",
      "source": [
        "Checando as variantes encontradas"
      ],
      "metadata": {
        "id": "wpwb7u59RRkp"
      }
    },
    {
      "cell_type": "code",
      "source": [
        "# @title Texto de título padrão\n",
        "!grep -v \"##\" /content/drive/MyDrive/Bacteria/reference/SRR1573261.vcf | head -n 10"
      ],
      "metadata": {
        "colab": {
          "base_uri": "https://localhost:8080/"
        },
        "id": "oRTOY6d7IyUF",
        "outputId": "77f2680b-6f16-460a-cc86-001b971003e2"
      },
      "execution_count": null,
      "outputs": [
        {
          "output_type": "stream",
          "name": "stdout",
          "text": [
            "#CHROM\tPOS\tID\tREF\tALT\tQUAL\tFILTER\tINFO\tFORMAT\tSRR519926\n",
            "CP092519.1\t21\t.\tA\tG\t1115.04\t.\tAC=1;AF=1.00;AN=1;DP=25;FS=0.000;MLEAC=1;MLEAF=1.00;MQ=54.46;QD=25.36;SOR=2.584\tGT:AD:DP:GQ:PL\t1:0,25:25:99:1125,0\n",
            "CP092519.1\t29\t.\tA\tG\t1520.04\t.\tAC=1;AF=1.00;AN=1;DP=34;FS=0.000;MLEAC=1;MLEAF=1.00;MQ=55.98;QD=28.73;SOR=3.258\tGT:AD:DP:GQ:PL\t1:0,34:34:99:1530,0\n",
            "CP092519.1\t30\t.\tT\tA\t1520.04\t.\tAC=1;AF=1.00;AN=1;DP=34;FS=0.000;MLEAC=1;MLEAF=1.00;MQ=55.98;QD=30.97;SOR=3.258\tGT:AD:DP:GQ:PL\t1:0,34:34:99:1530,0\n",
            "CP092519.1\t34\t.\tA\tG\t1610.04\t.\tAC=1;AF=1.00;AN=1;DP=36;FS=0.000;MLEAC=1;MLEAF=1.00;MQ=56.21;QD=27.24;SOR=3.383\tGT:AD:DP:GQ:PL\t1:0,36:36:99:1620,0\n",
            "CP092519.1\t36\t.\tC\tT\t1610.04\t.\tAC=1;AF=1.00;AN=1;DP=36;FS=0.000;MLEAC=1;MLEAF=1.00;MQ=56.21;QD=28.20;SOR=3.383\tGT:AD:DP:GQ:PL\t1:0,36:36:99:1620,0\n",
            "CP092519.1\t39\t.\tA\tT\t1610.04\t.\tAC=1;AF=1.00;AN=1;DP=36;FS=0.000;MLEAC=1;MLEAF=1.00;MQ=56.21;QD=25.00;SOR=3.383\tGT:AD:DP:GQ:PL\t1:0,36:36:99:1620,0\n",
            "CP092519.1\t42\t.\tA\tG\t1641.04\t.\tAC=1;AF=1.00;AN=1;DP=53;FS=0.000;MLEAC=1;MLEAF=1.00;MQ=56.54;QD=29.56;SOR=3.086\tGT:AD:DP:GQ:PL\t1:0,37:37:99:1651,0\n",
            "CP092519.1\t55\t.\tA\tG\t3050.04\t.\tAC=1;AF=1.00;AN=1;DP=68;FS=0.000;MLEAC=1;MLEAF=1.00;MQ=57.32;QD=30.62;SOR=1.445\tGT:AD:DP:GQ:PL\t1:0,68:68:99:3060,0\n",
            "CP092519.1\t57\t.\tA\tT\t3095.04\t.\tAC=1;AF=1.00;AN=1;DP=69;FS=0.000;MLEAC=1;MLEAF=1.00;MQ=57.36;QD=28.17;SOR=1.478\tGT:AD:DP:GQ:PL\t1:0,69:69:99:3105,0\n"
          ]
        }
      ]
    }
  ]
}